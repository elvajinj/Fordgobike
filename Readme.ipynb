{
 "cells": [
  {
   "cell_type": "markdown",
   "metadata": {},
   "source": [
    "# Project Table of Contents :"
   ]
  },
  {
   "cell_type": "markdown",
   "metadata": {},
   "source": [
    "Introduction of the topic and dataset Dataset Investigation and preliminary wrangling Further Data Wrangling Univariate Exploration and Analysis Bivariate Exploration and Analysis Multivariate Exploration and Analysis Conclusions."
   ]
  },
  {
   "cell_type": "markdown",
   "metadata": {},
   "source": [
    "# Data source:"
   ]
  },
  {
   "cell_type": "markdown",
   "metadata": {},
   "source": [
    "Data source :\n",
    "Ford GoBike System Data : https://www.fordgobike.com/system-data This data set includes information about individual rides made in a bike-sharing system covering the greater San Francisco Bay area .\n",
    "\n",
    "Features :  \n",
    "Rider access method  \n",
    "User Type (Subscriber or Customer – “Subscriber” = Member or “Customer” = Casual)  \n",
    "Trip Duration(in seconds)  \n",
    "Bike ID  \n",
    "Start Time and Date  \n",
    "End Time and Date  \n",
    "Start Station ID  \n",
    "End Station ID  \n",
    "Start Station Name  \n",
    "End Station Name  \n",
    "End Station Latitude  \n",
    "End Station Longitude  \n",
    "Start Station Latitude  \n",
    "Start Station Longitude"
   ]
  }
 ],
 "metadata": {
  "kernelspec": {
   "display_name": "Python 3",
   "language": "python",
   "name": "python3"
  },
  "language_info": {
   "codemirror_mode": {
    "name": "ipython",
    "version": 3
   },
   "file_extension": ".py",
   "mimetype": "text/x-python",
   "name": "python",
   "nbconvert_exporter": "python",
   "pygments_lexer": "ipython3",
   "version": "3.7.3"
  }
 },
 "nbformat": 4,
 "nbformat_minor": 2
}
